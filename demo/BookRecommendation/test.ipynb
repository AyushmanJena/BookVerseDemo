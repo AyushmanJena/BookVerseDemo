{
 "cells": [
  {
   "cell_type": "code",
   "execution_count": 2,
   "metadata": {},
   "outputs": [
    {
     "name": "stdout",
     "output_type": "stream",
     "text": [
      "(300, 21)\n"
     ]
    }
   ],
   "source": [
    "import pandas as pd\n",
    "import numpy as np\n",
    "\n",
    "sheet_name='1tbfGZwiIMCaKZ3dxa9z3yAt6-lalIxHz4-TSnQzjE98'\n",
    "df= pd.read_csv(f\"https://docs.google.com/spreadsheets/d/{sheet_name}/export?format=csv\")\n",
    "# print(df.info())\n",
    "df.dropna(inplace=True)\n",
    "print(df.shape)\n"
   ]
  },
  {
   "cell_type": "code",
   "execution_count": 2,
   "metadata": {},
   "outputs": [
    {
     "name": "stdout",
     "output_type": "stream",
     "text": [
      "['127 Hours' '2001' 'A Brief History Of Time' 'A Christmas Carol'\n",
      " 'A Clockwork Orange' 'A Death In The Family' \"A Doll's House\"\n",
      " 'A Fine Balance' 'A Good Man Is Hard To Find'\n",
      " 'A Guide To The Bodhisattva Way Of Life' 'A Handful Of Dust'\n",
      " 'A Hero Of Our Time' 'A Passage to India' 'A Room With A View'\n",
      " 'A Season In Hell' 'A Suitable Boy' 'A Tale Of Two Cities'\n",
      " 'A Tree Grows In Brooklyn' 'A Visit From The Goon Squad'\n",
      " 'A farewell To Arms' 'Adulting' 'Adventures Of Huckleberry Finn'\n",
      " \"Alice's Adventure In Wonderland\" \"All The King's Men\"\n",
      " 'American Pastoral' 'Amerika' 'An American Tragedy'\n",
      " 'An Era Of Darkness:The British Empire in India' 'Anna Karenina'\n",
      " 'Anne Of Green Gables'\n",
      " 'Annhilation Of Caste:The Annonated Critical Edition' 'Atomic Habits'\n",
      " 'Atonement' 'Babbit' 'Beloved' 'Bleak House' 'Brave New World'\n",
      " 'Breakfast Of Champions' 'Brighton Rock' 'Call To Arms' 'Casino Royale'\n",
      " \"Cat's Cradel\" 'Catch-22' 'Charlie And The Chocolate Factory'\n",
      " 'Clear Light Of Day' 'Cloud Atlas' 'Cold Comfort Farm'\n",
      " 'Common Sense On Mutual Funds' 'Coolie' 'Crime And Punishment'\n",
      " 'Darkness At Noon' 'Das Kapital' 'David Copperfield' 'Dead Souls'\n",
      " 'Death Of Virgil' 'Decameron' 'Delhi' 'Disgrace' 'Don Quixote' 'Dracula'\n",
      " 'Dubliners' 'Dune' 'East Of Eden' 'Emma' 'Fahrenheit 451'\n",
      " 'Fairy Tale And Stories' 'Family Life' 'Fathers And Sons' 'First Folio'\n",
      " 'Foundation' 'Frankenstein' \"Giovanni's Room\" 'Gitanjali'\n",
      " 'Gone With The Wind' \"Gravity's Rainbow\" 'Great Exceptions'\n",
      " \"Guliver's Travels\" 'Hamlet' 'Heart Of Darkness' 'Herzog'\n",
      " 'Homage To Catalonia' 'Home And The World' 'Howards End' 'Hunger'\n",
      " 'I Am Malala' 'I Have Not Seen Mandu' 'If God Was Your Financial Planner'\n",
      " 'If This Is A Man' 'In Cold Blood' 'India After Gandhi' 'Indica'\n",
      " 'Invisible Cities' 'Invisible Man' 'Kim' 'King Lear'\n",
      " 'Let Us Not Praise Famous Men' \"Let's Talk About Money\" 'Life And Fate'\n",
      " 'Light In August' 'Lolita' 'Lord Jim' 'Love And Longing In Bombay'\n",
      " 'Lucky Jim' 'Macbeth' 'Mahabharat' 'Mahashweta' 'Make Epic Money'\n",
      " 'Malgudi Days' \"Man's Fate\" 'Meghaduta' 'Meow' 'Merchant Of Venice'\n",
      " 'Metamorphoses' 'Middlemarch' \"Midnight's Children\" 'Mission Of Gravity'\n",
      " 'Moby-Dick' 'Moll Flanders' 'Molloy' 'Mrs.Dalloway' 'Munnu' 'My Story'\n",
      " 'Naked Lunch' 'Nationalism' 'Native Son' 'Nausea' 'Nightwood'\n",
      " 'Nine Stories' 'Nineteen Eighty Four' 'Nobody Killed Her' 'Nostromo'\n",
      " 'Notes From The Underground' 'Oedipus The King' 'Of Mice And Men'\n",
      " 'On The Origin Of Species' 'On The Road' 'One Hunderd Years Of Solitude'\n",
      " 'One Up On Wall Street' 'Our Mutual Friend' 'Out Of Africa' 'Pale Fire'\n",
      " 'Paradise Lost' 'Passing' 'Persuasion' 'Pippi Longstocking'\n",
      " 'Poems Of Emily Dickinson' 'Pride and Prejudice' 'Rabbit Redux' 'Ramayan'\n",
      " 'Relativity' 'Retire Rich' 'Rich Dad Poor Dad' 'Riddle of The Sands'\n",
      " 'Robinson Crusoe' 'Sacred Games' 'Sanctuary' 'Satyagraha In South Africa'\n",
      " 'Siddhartha' 'Silent Spring' 'Slaughterhouse-Five' 'Song Of Solmon'\n",
      " 'Songs Of Kabir' 'Sons And Lovers' 'Stocks To Riches' 'Swami And Friends'\n",
      " 'Tales From The Kathasaritsagara' 'Tamas' 'That Long Silence'\n",
      " 'The Adventure Of Tom Sawyer' 'The Alchemist' 'The Ambassadors'\n",
      " 'The Art Of War' 'The Association Of Small Bombs' 'The Awakening'\n",
      " 'The Bell Jar' 'The Black Swan' 'The Blue Umbrella'\n",
      " 'The Brothers Karamazov' 'The Calcutta Chromosome' 'The Call Of The Wind'\n",
      " 'The Canterbury Tales' 'The Castle' 'The Cat In The Hat'\n",
      " 'The Color Purple' 'The Complete Harry Potter'\n",
      " 'The Complete Sherlock Holmes' 'The Counterfeiters'\n",
      " 'The Daughter Of Time' 'The Death Of Ivan Ilyich'\n",
      " 'The Death Of The Heart' 'The Diary Of A Young Girl'\n",
      " 'The Discovery Of India' 'The Divine Comedy' 'The Double Helix'\n",
      " 'The Edge Of Physics' 'The End Of The Affair' 'The English Teacher'\n",
      " 'The Exorcist' 'The Fall' 'The Glass Bead Game' 'The Glass Place'\n",
      " 'The God Of Small Things' 'The Godfather' 'The Golden Ass'\n",
      " 'The Golden Gate' 'The Good Soldier' 'The Grapes Of Wrath'\n",
      " 'The Great Gatsby' 'The Great Indian Novel' 'The Guide'\n",
      " 'The Haunting Of Hill House' 'The Haunting Of The House' 'The Hobbit'\n",
      " 'The House Of Spirits' 'The Human Stain' 'The Hunt For Red October'\n",
      " 'The Idiot' 'The Iliad' 'The Intelligent Investor' 'The Jungle'\n",
      " 'The Life Of Samuel Johnson' 'The Lion,The Witch and the Wardobe'\n",
      " 'The Lord Of The Rings' 'The Magic Mountain' 'The Manchurian Candidate'\n",
      " 'The Metamorphosis' 'The Mill On The Floss' 'The Money Guide'\n",
      " 'The Moonstone' 'The Name Of The Rose' 'The Nine Tailors' 'The Odyssey'\n",
      " 'The Odyssey' 'The Old Man And The Sea' 'The Once And The Future King'\n",
      " 'The Painter Of Signs' 'The Pickwick Papers' 'The Plague'\n",
      " 'The Poems Of Robert Frost' 'The Portrait of a Lady'\n",
      " 'The Postmal Always Rings Twice' 'The Power And The Glory'\n",
      " 'The Power Broker' 'The Prince' 'The Psychology Of Money'\n",
      " 'The Quiet American' 'The Red And The Black' 'The Republic' 'The Road'\n",
      " 'The Room On The Roof' 'The Savage Detectives' 'The Second World War'\n",
      " 'The Secret Agent' 'The Sellout' 'The Shining' 'The Sirens Of Titan'\n",
      " 'The Sound And the Fury' 'The Stand'\n",
      " 'The Story Of My Experiment With Truth' 'The Stranger'\n",
      " 'The Sun Also Rises' 'The Tale Of Genji' 'The Tempest'\n",
      " 'The Three Musketeers' 'The Time Machine' 'The Trial'\n",
      " 'The Turn Of The Screw' 'The Unlikely Adventures Of The Shergill Sisters'\n",
      " 'The Waste Land' 'The Waves' 'The White Tiger' 'The Wind In The Willows'\n",
      " 'The Woman In White' 'The World According To Garp' 'Things Fall Apart'\n",
      " 'Think And Grow Rich' 'Through The Looking Glass' 'Time And Again'\n",
      " 'To Kill A Mockingbird' 'To The Lighthouse' 'Tom Jones' 'Too Big To Fail'\n",
      " 'Train To Pakistan' 'Treasure Island' 'Tropic Of Cancer' 'Ulysses'\n",
      " 'Untouchable' 'Vendor Of Sweets' 'War And Peace' 'War Of The Worlds'\n",
      " 'Watership Down' 'We' 'What Young India Wants'\n",
      " 'Where The Wild Things Are' 'White Noise' 'White Teeth'\n",
      " 'Wings Of Fire:An Autobiography' 'Winnie The Pooh' 'Wolf Hall'\n",
      " 'Women In Love']\n",
      "(array([], dtype=int64),)\n"
     ]
    }
   ],
   "source": [
    "import joblib as jb\n",
    "import numpy as np\n",
    "\n",
    "book = jb.load('res/BookName')\n",
    "for i in range(len(book)):\n",
    "    book.loc[i,'NAME OF THE BOOK']= book['NAME OF THE BOOK'][i].strip()\n",
    "    book.loc[i,'NAME OF THE AUTHOR'] = book['NAME OF THE AUTHOR'][i].strip()\n",
    "\n",
    "book.loc[34,'NAME OF THE AUTHOR'] = 'M.K Gandhi'\n",
    "\n",
    "name = np.sort(book['NAME OF THE BOOK'])\n",
    "print(name) \n",
    "\n",
    "\n",
    "li = np.where(book['NAME OF THE AUTHOR']=='Mahatma Gandhi')\n",
    "print(li)\n"
   ]
  },
  {
   "cell_type": "code",
   "execution_count": 54,
   "metadata": {},
   "outputs": [
    {
     "name": "stdout",
     "output_type": "stream",
     "text": [
      "happy\n"
     ]
    }
   ],
   "source": [
    "ch = '      happy      '\n",
    "print(ch.strip())"
   ]
  },
  {
   "cell_type": "code",
   "execution_count": 39,
   "metadata": {},
   "outputs": [
    {
     "name": "stdout",
     "output_type": "stream",
     "text": [
      "<class 'pandas.core.frame.DataFrame'>\n",
      "Index: 300 entries, 0 to 299\n",
      "Data columns (total 6 columns):\n",
      " #   Column              Non-Null Count  Dtype \n",
      "---  ------              --------------  ----- \n",
      " 0   BOOK ID             300 non-null    int64 \n",
      " 1   NAME OF THE AUTHOR  300 non-null    object\n",
      " 2   NAME OF THE BOOK    300 non-null    object\n",
      " 3   IMAGE URL           300 non-null    object\n",
      " 4   Rating              300 non-null    int32 \n",
      " 5   Price               300 non-null    int32 \n",
      "dtypes: int32(2), int64(1), object(3)\n",
      "memory usage: 22.2+ KB\n"
     ]
    }
   ],
   "source": [
    "b_name = df.iloc[:,:4]\n",
    "for i in range(len(b_name)):\n",
    "    b_name.loc[i,'Rating']=np.random.randint(0,6)\n",
    "    b_name.loc[i,'Price']=np.random.randint(300,1000)\n",
    "b_name['Rating'] = b_name['Rating'].astype(int)\n",
    "b_name['Price'] = b_name['Price'].astype(int)\n",
    "b_name.info()"
   ]
  },
  {
   "cell_type": "code",
   "execution_count": 3,
   "metadata": {},
   "outputs": [
    {
     "data": {
      "text/plain": [
       "['res/BookName']"
      ]
     },
     "execution_count": 3,
     "metadata": {},
     "output_type": "execute_result"
    }
   ],
   "source": [
    "import joblib\n",
    "\n",
    "joblib.dump(book,'res/BookName')\n"
   ]
  }
 ],
 "metadata": {
  "kernelspec": {
   "display_name": "base",
   "language": "python",
   "name": "python3"
  },
  "language_info": {
   "codemirror_mode": {
    "name": "ipython",
    "version": 3
   },
   "file_extension": ".py",
   "mimetype": "text/x-python",
   "name": "python",
   "nbconvert_exporter": "python",
   "pygments_lexer": "ipython3",
   "version": "3.11.1"
  }
 },
 "nbformat": 4,
 "nbformat_minor": 2
}
